{
 "cells": [
  {
   "cell_type": "code",
   "execution_count": 2,
   "metadata": {},
   "outputs": [],
   "source": [
    "import pandas as pd\n",
    "import numpy as np\n",
    "import matplotlib.pyplot as plt\n",
    "import seaborn as sns"
   ]
  },
  {
   "cell_type": "code",
   "execution_count": 3,
   "metadata": {},
   "outputs": [],
   "source": [
    "df = pd.read_csv('euro2024_players.csv')"
   ]
  },
  {
   "cell_type": "code",
   "execution_count": 4,
   "metadata": {},
   "outputs": [
    {
     "data": {
      "text/html": [
       "<div>\n",
       "<style scoped>\n",
       "    .dataframe tbody tr th:only-of-type {\n",
       "        vertical-align: middle;\n",
       "    }\n",
       "\n",
       "    .dataframe tbody tr th {\n",
       "        vertical-align: top;\n",
       "    }\n",
       "\n",
       "    .dataframe thead th {\n",
       "        text-align: right;\n",
       "    }\n",
       "</style>\n",
       "<table border=\"1\" class=\"dataframe\">\n",
       "  <thead>\n",
       "    <tr style=\"text-align: right;\">\n",
       "      <th></th>\n",
       "      <th>Name</th>\n",
       "      <th>Position</th>\n",
       "      <th>Age</th>\n",
       "      <th>Club</th>\n",
       "      <th>Height</th>\n",
       "      <th>Foot</th>\n",
       "      <th>Caps</th>\n",
       "      <th>Goals</th>\n",
       "      <th>MarketValue</th>\n",
       "      <th>Country</th>\n",
       "    </tr>\n",
       "  </thead>\n",
       "  <tbody>\n",
       "    <tr>\n",
       "      <th>0</th>\n",
       "      <td>Marc-André ter Stegen</td>\n",
       "      <td>Goalkeeper</td>\n",
       "      <td>32</td>\n",
       "      <td>FC Barcelona</td>\n",
       "      <td>187</td>\n",
       "      <td>right</td>\n",
       "      <td>40</td>\n",
       "      <td>0</td>\n",
       "      <td>28000000</td>\n",
       "      <td>Germany</td>\n",
       "    </tr>\n",
       "    <tr>\n",
       "      <th>1</th>\n",
       "      <td>Manuel Neuer</td>\n",
       "      <td>Goalkeeper</td>\n",
       "      <td>38</td>\n",
       "      <td>Bayern Munich</td>\n",
       "      <td>193</td>\n",
       "      <td>right</td>\n",
       "      <td>119</td>\n",
       "      <td>0</td>\n",
       "      <td>4000000</td>\n",
       "      <td>Germany</td>\n",
       "    </tr>\n",
       "    <tr>\n",
       "      <th>2</th>\n",
       "      <td>Oliver Baumann</td>\n",
       "      <td>Goalkeeper</td>\n",
       "      <td>34</td>\n",
       "      <td>TSG 1899 Hoffenheim</td>\n",
       "      <td>187</td>\n",
       "      <td>right</td>\n",
       "      <td>0</td>\n",
       "      <td>0</td>\n",
       "      <td>3000000</td>\n",
       "      <td>Germany</td>\n",
       "    </tr>\n",
       "    <tr>\n",
       "      <th>3</th>\n",
       "      <td>Nico Schlotterbeck</td>\n",
       "      <td>Centre-Back</td>\n",
       "      <td>24</td>\n",
       "      <td>Borussia Dortmund</td>\n",
       "      <td>191</td>\n",
       "      <td>left</td>\n",
       "      <td>12</td>\n",
       "      <td>0</td>\n",
       "      <td>40000000</td>\n",
       "      <td>Germany</td>\n",
       "    </tr>\n",
       "    <tr>\n",
       "      <th>4</th>\n",
       "      <td>Jonathan Tah</td>\n",
       "      <td>Centre-Back</td>\n",
       "      <td>28</td>\n",
       "      <td>Bayer 04 Leverkusen</td>\n",
       "      <td>195</td>\n",
       "      <td>right</td>\n",
       "      <td>25</td>\n",
       "      <td>0</td>\n",
       "      <td>30000000</td>\n",
       "      <td>Germany</td>\n",
       "    </tr>\n",
       "  </tbody>\n",
       "</table>\n",
       "</div>"
      ],
      "text/plain": [
       "                    Name     Position  Age                 Club  Height  \\\n",
       "0  Marc-André ter Stegen   Goalkeeper   32         FC Barcelona     187   \n",
       "1           Manuel Neuer   Goalkeeper   38        Bayern Munich     193   \n",
       "2         Oliver Baumann   Goalkeeper   34  TSG 1899 Hoffenheim     187   \n",
       "3     Nico Schlotterbeck  Centre-Back   24    Borussia Dortmund     191   \n",
       "4           Jonathan Tah  Centre-Back   28  Bayer 04 Leverkusen     195   \n",
       "\n",
       "    Foot  Caps  Goals  MarketValue  Country  \n",
       "0  right    40      0     28000000  Germany  \n",
       "1  right   119      0      4000000  Germany  \n",
       "2  right     0      0      3000000  Germany  \n",
       "3   left    12      0     40000000  Germany  \n",
       "4  right    25      0     30000000  Germany  "
      ]
     },
     "execution_count": 4,
     "metadata": {},
     "output_type": "execute_result"
    }
   ],
   "source": [
    "df.head()"
   ]
  },
  {
   "cell_type": "code",
   "execution_count": 5,
   "metadata": {},
   "outputs": [
    {
     "data": {
      "text/plain": [
       "(623, 10)"
      ]
     },
     "execution_count": 5,
     "metadata": {},
     "output_type": "execute_result"
    }
   ],
   "source": [
    "df.shape"
   ]
  },
  {
   "cell_type": "code",
   "execution_count": 6,
   "metadata": {},
   "outputs": [
    {
     "name": "stdout",
     "output_type": "stream",
     "text": [
      "<class 'pandas.core.frame.DataFrame'>\n",
      "RangeIndex: 623 entries, 0 to 622\n",
      "Data columns (total 10 columns):\n",
      " #   Column       Non-Null Count  Dtype \n",
      "---  ------       --------------  ----- \n",
      " 0   Name         623 non-null    object\n",
      " 1   Position     623 non-null    object\n",
      " 2   Age          623 non-null    int64 \n",
      " 3   Club         623 non-null    object\n",
      " 4   Height       623 non-null    int64 \n",
      " 5   Foot         620 non-null    object\n",
      " 6   Caps         623 non-null    int64 \n",
      " 7   Goals        623 non-null    int64 \n",
      " 8   MarketValue  623 non-null    int64 \n",
      " 9   Country      623 non-null    object\n",
      "dtypes: int64(5), object(5)\n",
      "memory usage: 48.8+ KB\n"
     ]
    }
   ],
   "source": [
    "df.info()"
   ]
  },
  {
   "cell_type": "code",
   "execution_count": 7,
   "metadata": {},
   "outputs": [],
   "source": [
    "country_goals = {}"
   ]
  },
  {
   "cell_type": "code",
   "execution_count": 8,
   "metadata": {},
   "outputs": [
    {
     "name": "stdout",
     "output_type": "stream",
     "text": [
      "Germany 134\n",
      "Scotland 59\n",
      "Hungary 60\n",
      "Switzerland 125\n",
      "Spain 95\n",
      "Croatia 147\n",
      "Albania 40\n",
      "Italy 59\n",
      "Slovenia 78\n",
      "England 100\n",
      "Denmark 135\n",
      "Serbia 129\n",
      "Poland 154\n",
      "Netherlands 141\n",
      "Austria 93\n",
      "France 192\n",
      "Belgium 177\n",
      "Slovakia 67\n",
      "Romania 63\n",
      "Ukraine 114\n",
      "Turkiye 71\n",
      "Georgia 64\n",
      "Portugal 225\n",
      "Czech Republic 65\n"
     ]
    }
   ],
   "source": [
    "for country in df['Country'].unique():\n",
    "    total_goals = df[df['Country'] == country]['Goals'].sum()\n",
    "    print(country, total_goals)\n",
    "    country_goals.update({country: total_goals})"
   ]
  },
  {
   "cell_type": "code",
   "execution_count": 9,
   "metadata": {},
   "outputs": [
    {
     "data": {
      "text/plain": [
       "{'Germany': 134,\n",
       " 'Scotland': 59,\n",
       " 'Hungary': 60,\n",
       " 'Switzerland': 125,\n",
       " 'Spain': 95,\n",
       " 'Croatia': 147,\n",
       " 'Albania': 40,\n",
       " 'Italy': 59,\n",
       " 'Slovenia': 78,\n",
       " 'England': 100,\n",
       " 'Denmark': 135,\n",
       " 'Serbia': 129,\n",
       " 'Poland': 154,\n",
       " 'Netherlands': 141,\n",
       " 'Austria': 93,\n",
       " 'France': 192,\n",
       " 'Belgium': 177,\n",
       " 'Slovakia': 67,\n",
       " 'Romania': 63,\n",
       " 'Ukraine': 114,\n",
       " 'Turkiye': 71,\n",
       " 'Georgia': 64,\n",
       " 'Portugal': 225,\n",
       " 'Czech Republic': 65}"
      ]
     },
     "execution_count": 9,
     "metadata": {},
     "output_type": "execute_result"
    }
   ],
   "source": [
    "country_goals"
   ]
  },
  {
   "cell_type": "code",
   "execution_count": 10,
   "metadata": {},
   "outputs": [],
   "source": [
    "# Sort the dictionary\n",
    "country_goals = dict(sorted(country_goals.items(), key=lambda item: item[1], reverse=True))"
   ]
  },
  {
   "cell_type": "code",
   "execution_count": 11,
   "metadata": {},
   "outputs": [
    {
     "data": {
      "text/plain": [
       "{'Portugal': 225,\n",
       " 'France': 192,\n",
       " 'Belgium': 177,\n",
       " 'Poland': 154,\n",
       " 'Croatia': 147,\n",
       " 'Netherlands': 141,\n",
       " 'Denmark': 135,\n",
       " 'Germany': 134,\n",
       " 'Serbia': 129,\n",
       " 'Switzerland': 125,\n",
       " 'Ukraine': 114,\n",
       " 'England': 100,\n",
       " 'Spain': 95,\n",
       " 'Austria': 93,\n",
       " 'Slovenia': 78,\n",
       " 'Turkiye': 71,\n",
       " 'Slovakia': 67,\n",
       " 'Czech Republic': 65,\n",
       " 'Georgia': 64,\n",
       " 'Romania': 63,\n",
       " 'Hungary': 60,\n",
       " 'Scotland': 59,\n",
       " 'Italy': 59,\n",
       " 'Albania': 40}"
      ]
     },
     "execution_count": 11,
     "metadata": {},
     "output_type": "execute_result"
    }
   ],
   "source": [
    "country_goals"
   ]
  },
  {
   "cell_type": "code",
   "execution_count": 12,
   "metadata": {},
   "outputs": [
    {
     "name": "stdout",
     "output_type": "stream",
     "text": [
      "Country, AVG, Min, Max\n",
      "Germany,28,20,38\n",
      "Scotland,28,21,32\n",
      "Hungary,27,20,34\n",
      "Switzerland,28,21,35\n",
      "Spain,27,16,38\n",
      "Croatia,28,21,38\n",
      "Albania,27,20,35\n",
      "Italy,26,22,34\n",
      "Slovenia,27,21,36\n",
      "England,26,19,34\n",
      "Denmark,28,21,37\n",
      "Serbia,27,20,35\n",
      "Poland,28,19,36\n",
      "Netherlands,27,21,34\n",
      "Austria,27,20,35\n",
      "France,27,18,37\n",
      "Belgium,27,19,37\n",
      "Slovakia,27,18,37\n",
      "Romania,27,22,36\n",
      "Ukraine,26,21,34\n",
      "Turkiye,26,18,35\n",
      "Georgia,27,18,38\n",
      "Portugal,27,19,41\n",
      "Czech Republic,25,20,31\n"
     ]
    }
   ],
   "source": [
    "# Min, Max and Avg age of of each country player\n",
    "print('Country, AVG, Min, Max')\n",
    "for country in df['Country'].unique():\n",
    "    avg_age = df[df['Country'] == country]['Age'].mean()\n",
    "    min_age = df[df['Country'] == country]['Age'].min()\n",
    "    max_age = df[df['Country'] == country]['Age'].max()\n",
    "\n",
    "    print(f'{country},{round(avg_age)},{min_age},{max_age}')"
   ]
  },
  {
   "cell_type": "code",
   "execution_count": 13,
   "metadata": {},
   "outputs": [
    {
     "data": {
      "text/plain": [
       "count    6.230000e+02\n",
       "mean     1.840903e+07\n",
       "std      2.426195e+07\n",
       "min      5.000000e+04\n",
       "25%      2.900000e+06\n",
       "50%      9.000000e+06\n",
       "75%      2.500000e+07\n",
       "max      1.800000e+08\n",
       "Name: MarketValue, dtype: float64"
      ]
     },
     "execution_count": 13,
     "metadata": {},
     "output_type": "execute_result"
    }
   ],
   "source": [
    "# Market value analysis\n",
    "df['MarketValue'].describe()"
   ]
  },
  {
   "cell_type": "code",
   "execution_count": 20,
   "metadata": {},
   "outputs": [
    {
     "data": {
      "text/plain": [
       "0    5000000\n",
       "Name: MarketValue, dtype: int64"
      ]
     },
     "execution_count": 20,
     "metadata": {},
     "output_type": "execute_result"
    }
   ],
   "source": [
    "df['MarketValue'].mode()"
   ]
  },
  {
   "cell_type": "code",
   "execution_count": 21,
   "metadata": {},
   "outputs": [
    {
     "data": {
      "text/plain": [
       "9000000.0"
      ]
     },
     "execution_count": 21,
     "metadata": {},
     "output_type": "execute_result"
    }
   ],
   "source": [
    "df['MarketValue'].median()"
   ]
  },
  {
   "cell_type": "code",
   "execution_count": 22,
   "metadata": {},
   "outputs": [
    {
     "data": {
      "text/plain": [
       "18409028.892455857"
      ]
     },
     "execution_count": 22,
     "metadata": {},
     "output_type": "execute_result"
    }
   ],
   "source": [
    "df['MarketValue'].mean()"
   ]
  },
  {
   "cell_type": "code",
   "execution_count": 23,
   "metadata": {},
   "outputs": [
    {
     "data": {
      "text/plain": [
       "2.678094329050169"
      ]
     },
     "execution_count": 23,
     "metadata": {},
     "output_type": "execute_result"
    }
   ],
   "source": [
    "df['MarketValue'].skew()"
   ]
  },
  {
   "cell_type": "code",
   "execution_count": 18,
   "metadata": {},
   "outputs": [
    {
     "data": {
      "text/plain": [
       "83"
      ]
     },
     "execution_count": 18,
     "metadata": {},
     "output_type": "execute_result"
    }
   ],
   "source": [
    "len(df['MarketValue'].unique())"
   ]
  },
  {
   "cell_type": "code",
   "execution_count": 19,
   "metadata": {},
   "outputs": [
    {
     "data": {
      "image/png": "[encoded data removed]",
      "text/plain": [
       "<Figure size 640x480 with 1 Axes>"
      ]
     },
     "metadata": {},
     "output_type": "display_data"
    }
   ],
   "source": [
    "df['MarketValue'].hist(bins = 50)\n",
    "plt.show()"
   ]
  },
  {
   "cell_type": "markdown",
   "metadata": {},
   "source": [
    "# Country-wise Analysis"
   ]
  },
  {
   "cell_type": "code",
   "execution_count": 6,
   "metadata": {},
   "outputs": [
    {
     "data": {
      "text/plain": [
       "Index(['Name', 'Position', 'Age', 'Club', 'Height', 'Foot', 'Caps', 'Goals',\n",
       "       'MarketValue', 'Country'],\n",
       "      dtype='object')"
      ]
     },
     "execution_count": 6,
     "metadata": {},
     "output_type": "execute_result"
    }
   ],
   "source": [
    "df.columns"
   ]
  },
  {
   "cell_type": "code",
   "execution_count": 7,
   "metadata": {},
   "outputs": [
    {
     "data": {
      "text/plain": [
       "array(['Germany', 'Scotland', 'Hungary', 'Switzerland', 'Spain',\n",
       "       'Croatia', 'Albania', 'Italy', 'Slovenia', 'England', 'Denmark',\n",
       "       'Serbia', 'Poland', 'Netherlands', 'Austria', 'France', 'Belgium',\n",
       "       'Slovakia', 'Romania', 'Ukraine', 'Turkiye', 'Georgia', 'Portugal',\n",
       "       'Czech Republic'], dtype=object)"
      ]
     },
     "execution_count": 7,
     "metadata": {},
     "output_type": "execute_result"
    }
   ],
   "source": [
    "df.Country.unique()"
   ]
  },
  {
   "cell_type": "markdown",
   "metadata": {},
   "source": [
    "### Germany"
   ]
  },
  {
   "cell_type": "code",
   "execution_count": 8,
   "metadata": {},
   "outputs": [],
   "source": [
    "df_germany = df[df['Country'] == 'Germany']"
   ]
  },
  {
   "cell_type": "code",
   "execution_count": 9,
   "metadata": {},
   "outputs": [
    {
     "name": "stdout",
     "output_type": "stream",
     "text": [
      "<class 'pandas.core.frame.DataFrame'>\n",
      "Index: 26 entries, 0 to 25\n",
      "Data columns (total 10 columns):\n",
      " #   Column       Non-Null Count  Dtype \n",
      "---  ------       --------------  ----- \n",
      " 0   Name         26 non-null     object\n",
      " 1   Position     26 non-null     object\n",
      " 2   Age          26 non-null     int64 \n",
      " 3   Club         26 non-null     object\n",
      " 4   Height       26 non-null     int64 \n",
      " 5   Foot         26 non-null     object\n",
      " 6   Caps         26 non-null     int64 \n",
      " 7   Goals        26 non-null     int64 \n",
      " 8   MarketValue  26 non-null     int64 \n",
      " 9   Country      26 non-null     object\n",
      "dtypes: int64(5), object(5)\n",
      "memory usage: 2.2+ KB\n"
     ]
    }
   ],
   "source": [
    "df_germany.info()"
   ]
  },
  {
   "cell_type": "code",
   "execution_count": 10,
   "metadata": {},
   "outputs": [
    {
     "data": {
      "text/plain": [
       "count    26.000000\n",
       "mean     28.115385\n",
       "std       4.650393\n",
       "min      20.000000\n",
       "25%      26.000000\n",
       "50%      27.500000\n",
       "75%      31.750000\n",
       "max      38.000000\n",
       "Name: Age, dtype: float64"
      ]
     },
     "execution_count": 10,
     "metadata": {},
     "output_type": "execute_result"
    }
   ],
   "source": [
    "# Germany players age stats\n",
    "df_germany.Age.describe()"
   ]
  },
  {
   "cell_type": "code",
   "execution_count": 11,
   "metadata": {},
   "outputs": [
    {
     "name": "stdout",
     "output_type": "stream",
     "text": [
      "Youngest player in Germany: Aleksandar Pavlovic\n",
      "Oldest player in Germany: Manuel Neuer\n"
     ]
    }
   ],
   "source": [
    "# who are the youngest and oldest players in Germany for Euro 2024?\n",
    "print(f'Youngest player in Germany: {df_germany[df_germany.Age == df_germany.Age.min()].Name.item()}')\n",
    "print(f'Oldest player in Germany: {df_germany[df_germany.Age == df_germany.Age.max()].Name.item()}')\n"
   ]
  },
  {
   "cell_type": "code",
   "execution_count": 12,
   "metadata": {},
   "outputs": [
    {
     "name": "stdout",
     "output_type": "stream",
     "text": [
      "Age of Toni Kroos is: 34\n"
     ]
    }
   ],
   "source": [
    "# What is the age of Toni Kroos?\n",
    "print(f'Age of Toni Kroos is: {df_germany[df_germany.Name == \"Toni Kroos\"].Age.item()}')"
   ]
  },
  {
   "cell_type": "code",
   "execution_count": 13,
   "metadata": {},
   "outputs": [
    {
     "data": {
      "text/plain": [
       "count    26.000000\n",
       "mean      5.153846\n",
       "std      10.090361\n",
       "min       0.000000\n",
       "25%       0.000000\n",
       "50%       0.000000\n",
       "75%       5.250000\n",
       "max      45.000000\n",
       "Name: Goals, dtype: float64"
      ]
     },
     "execution_count": 13,
     "metadata": {},
     "output_type": "execute_result"
    }
   ],
   "source": [
    "# Germany Player Goal stats\n",
    "df_germany['Goals'].describe()"
   ]
  },
  {
   "cell_type": "code",
   "execution_count": 14,
   "metadata": {},
   "outputs": [
    {
     "data": {
      "text/html": [
       "<div>\n",
       "<style scoped>\n",
       "    .dataframe tbody tr th:only-of-type {\n",
       "        vertical-align: middle;\n",
       "    }\n",
       "\n",
       "    .dataframe tbody tr th {\n",
       "        vertical-align: top;\n",
       "    }\n",
       "\n",
       "    .dataframe thead th {\n",
       "        text-align: right;\n",
       "    }\n",
       "</style>\n",
       "<table border=\"1\" class=\"dataframe\">\n",
       "  <thead>\n",
       "    <tr style=\"text-align: right;\">\n",
       "      <th></th>\n",
       "      <th>Name</th>\n",
       "      <th>Position</th>\n",
       "      <th>Age</th>\n",
       "      <th>Club</th>\n",
       "      <th>Height</th>\n",
       "      <th>Foot</th>\n",
       "      <th>Caps</th>\n",
       "      <th>Goals</th>\n",
       "      <th>MarketValue</th>\n",
       "      <th>Country</th>\n",
       "    </tr>\n",
       "  </thead>\n",
       "  <tbody>\n",
       "    <tr>\n",
       "      <th>22</th>\n",
       "      <td>Thomas Müller</td>\n",
       "      <td>Second Striker</td>\n",
       "      <td>34</td>\n",
       "      <td>Bayern Munich</td>\n",
       "      <td>185</td>\n",
       "      <td>right</td>\n",
       "      <td>129</td>\n",
       "      <td>45</td>\n",
       "      <td>8000000</td>\n",
       "      <td>Germany</td>\n",
       "    </tr>\n",
       "  </tbody>\n",
       "</table>\n",
       "</div>"
      ],
      "text/plain": [
       "             Name        Position  Age           Club  Height   Foot  Caps  \\\n",
       "22  Thomas Müller  Second Striker   34  Bayern Munich     185  right   129   \n",
       "\n",
       "    Goals  MarketValue  Country  \n",
       "22     45      8000000  Germany  "
      ]
     },
     "execution_count": 14,
     "metadata": {},
     "output_type": "execute_result"
    }
   ],
   "source": [
    "# Who has the most goal?\n",
    "df_germany[df_germany['Goals'] == df_germany.Goals.max()]"
   ]
  },
  {
   "cell_type": "code",
   "execution_count": null,
   "metadata": {},
   "outputs": [],
   "source": []
  }
 ],
 "metadata": {
  "language_info": {
   "name": "python"
  }
 },
 "nbformat": 4,
 "nbformat_minor": 2
}
