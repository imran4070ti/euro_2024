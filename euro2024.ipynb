{
 "cells": [
  {
   "cell_type": "code",
   "execution_count": 1,
   "metadata": {},
   "outputs": [],
   "source": [
    "import pandas as pd\n",
    "import numpy as np\n",
    "import matplotlib.pyplot as plt\n",
    "import seaborn as sns"
   ]
  },
  {
   "cell_type": "code",
   "execution_count": 2,
   "metadata": {},
   "outputs": [],
   "source": [
    "df = pd.read_csv('euro2024_players.csv')"
   ]
  },
  {
   "cell_type": "code",
   "execution_count": 3,
   "metadata": {},
   "outputs": [
    {
     "data": {
      "text/html": [
       "<div>\n",
       "<style scoped>\n",
       "    .dataframe tbody tr th:only-of-type {\n",
       "        vertical-align: middle;\n",
       "    }\n",
       "\n",
       "    .dataframe tbody tr th {\n",
       "        vertical-align: top;\n",
       "    }\n",
       "\n",
       "    .dataframe thead th {\n",
       "        text-align: right;\n",
       "    }\n",
       "</style>\n",
       "<table border=\"1\" class=\"dataframe\">\n",
       "  <thead>\n",
       "    <tr style=\"text-align: right;\">\n",
       "      <th></th>\n",
       "      <th>Name</th>\n",
       "      <th>Position</th>\n",
       "      <th>Age</th>\n",
       "      <th>Club</th>\n",
       "      <th>Height</th>\n",
       "      <th>Foot</th>\n",
       "      <th>Caps</th>\n",
       "      <th>Goals</th>\n",
       "      <th>MarketValue</th>\n",
       "      <th>Country</th>\n",
       "    </tr>\n",
       "  </thead>\n",
       "  <tbody>\n",
       "    <tr>\n",
       "      <th>0</th>\n",
       "      <td>Marc-André ter Stegen</td>\n",
       "      <td>Goalkeeper</td>\n",
       "      <td>32</td>\n",
       "      <td>FC Barcelona</td>\n",
       "      <td>187</td>\n",
       "      <td>right</td>\n",
       "      <td>40</td>\n",
       "      <td>0</td>\n",
       "      <td>28000000</td>\n",
       "      <td>Germany</td>\n",
       "    </tr>\n",
       "    <tr>\n",
       "      <th>1</th>\n",
       "      <td>Manuel Neuer</td>\n",
       "      <td>Goalkeeper</td>\n",
       "      <td>38</td>\n",
       "      <td>Bayern Munich</td>\n",
       "      <td>193</td>\n",
       "      <td>right</td>\n",
       "      <td>119</td>\n",
       "      <td>0</td>\n",
       "      <td>4000000</td>\n",
       "      <td>Germany</td>\n",
       "    </tr>\n",
       "    <tr>\n",
       "      <th>2</th>\n",
       "      <td>Oliver Baumann</td>\n",
       "      <td>Goalkeeper</td>\n",
       "      <td>34</td>\n",
       "      <td>TSG 1899 Hoffenheim</td>\n",
       "      <td>187</td>\n",
       "      <td>right</td>\n",
       "      <td>0</td>\n",
       "      <td>0</td>\n",
       "      <td>3000000</td>\n",
       "      <td>Germany</td>\n",
       "    </tr>\n",
       "    <tr>\n",
       "      <th>3</th>\n",
       "      <td>Nico Schlotterbeck</td>\n",
       "      <td>Centre-Back</td>\n",
       "      <td>24</td>\n",
       "      <td>Borussia Dortmund</td>\n",
       "      <td>191</td>\n",
       "      <td>left</td>\n",
       "      <td>12</td>\n",
       "      <td>0</td>\n",
       "      <td>40000000</td>\n",
       "      <td>Germany</td>\n",
       "    </tr>\n",
       "    <tr>\n",
       "      <th>4</th>\n",
       "      <td>Jonathan Tah</td>\n",
       "      <td>Centre-Back</td>\n",
       "      <td>28</td>\n",
       "      <td>Bayer 04 Leverkusen</td>\n",
       "      <td>195</td>\n",
       "      <td>right</td>\n",
       "      <td>25</td>\n",
       "      <td>0</td>\n",
       "      <td>30000000</td>\n",
       "      <td>Germany</td>\n",
       "    </tr>\n",
       "  </tbody>\n",
       "</table>\n",
       "</div>"
      ],
      "text/plain": [
       "                    Name     Position  Age                 Club  Height  \\\n",
       "0  Marc-André ter Stegen   Goalkeeper   32         FC Barcelona     187   \n",
       "1           Manuel Neuer   Goalkeeper   38        Bayern Munich     193   \n",
       "2         Oliver Baumann   Goalkeeper   34  TSG 1899 Hoffenheim     187   \n",
       "3     Nico Schlotterbeck  Centre-Back   24    Borussia Dortmund     191   \n",
       "4           Jonathan Tah  Centre-Back   28  Bayer 04 Leverkusen     195   \n",
       "\n",
       "    Foot  Caps  Goals  MarketValue  Country  \n",
       "0  right    40      0     28000000  Germany  \n",
       "1  right   119      0      4000000  Germany  \n",
       "2  right     0      0      3000000  Germany  \n",
       "3   left    12      0     40000000  Germany  \n",
       "4  right    25      0     30000000  Germany  "
      ]
     },
     "execution_count": 3,
     "metadata": {},
     "output_type": "execute_result"
    }
   ],
   "source": [
    "df.head()"
   ]
  },
  {
   "cell_type": "code",
   "execution_count": 4,
   "metadata": {},
   "outputs": [
    {
     "data": {
      "text/plain": [
       "(623, 10)"
      ]
     },
     "execution_count": 4,
     "metadata": {},
     "output_type": "execute_result"
    }
   ],
   "source": [
    "df.shape"
   ]
  },
  {
   "cell_type": "code",
   "execution_count": 7,
   "metadata": {},
   "outputs": [
    {
     "name": "stdout",
     "output_type": "stream",
     "text": [
      "<class 'pandas.core.frame.DataFrame'>\n",
      "RangeIndex: 623 entries, 0 to 622\n",
      "Data columns (total 10 columns):\n",
      " #   Column       Non-Null Count  Dtype \n",
      "---  ------       --------------  ----- \n",
      " 0   Name         623 non-null    object\n",
      " 1   Position     623 non-null    object\n",
      " 2   Age          623 non-null    int64 \n",
      " 3   Club         623 non-null    object\n",
      " 4   Height       623 non-null    int64 \n",
      " 5   Foot         620 non-null    object\n",
      " 6   Caps         623 non-null    int64 \n",
      " 7   Goals        623 non-null    int64 \n",
      " 8   MarketValue  623 non-null    int64 \n",
      " 9   Country      623 non-null    object\n",
      "dtypes: int64(5), object(5)\n",
      "memory usage: 48.8+ KB\n"
     ]
    }
   ],
   "source": [
    "df.info()"
   ]
  },
  {
   "cell_type": "markdown",
   "metadata": {},
   "source": [
    "# Country-wise Analysis"
   ]
  },
  {
   "cell_type": "code",
   "execution_count": 8,
   "metadata": {},
   "outputs": [
    {
     "data": {
      "text/plain": [
       "array(['Germany', 'Scotland', 'Hungary', 'Switzerland', 'Spain',\n",
       "       'Croatia', 'Albania', 'Italy', 'Slovenia', 'England', 'Denmark',\n",
       "       'Serbia', 'Poland', 'Netherlands', 'Austria', 'France', 'Belgium',\n",
       "       'Slovakia', 'Romania', 'Ukraine', 'Turkiye', 'Georgia', 'Portugal',\n",
       "       'Czech Republic'], dtype=object)"
      ]
     },
     "execution_count": 8,
     "metadata": {},
     "output_type": "execute_result"
    }
   ],
   "source": [
    "df.Country.unique()"
   ]
  },
  {
   "cell_type": "markdown",
   "metadata": {},
   "source": [
    "### Germany"
   ]
  },
  {
   "cell_type": "code",
   "execution_count": 9,
   "metadata": {},
   "outputs": [],
   "source": [
    "df_germany = df[df['Country'] == 'Germany']"
   ]
  },
  {
   "cell_type": "code",
   "execution_count": 10,
   "metadata": {},
   "outputs": [
    {
     "name": "stdout",
     "output_type": "stream",
     "text": [
      "<class 'pandas.core.frame.DataFrame'>\n",
      "Index: 26 entries, 0 to 25\n",
      "Data columns (total 10 columns):\n",
      " #   Column       Non-Null Count  Dtype \n",
      "---  ------       --------------  ----- \n",
      " 0   Name         26 non-null     object\n",
      " 1   Position     26 non-null     object\n",
      " 2   Age          26 non-null     int64 \n",
      " 3   Club         26 non-null     object\n",
      " 4   Height       26 non-null     int64 \n",
      " 5   Foot         26 non-null     object\n",
      " 6   Caps         26 non-null     int64 \n",
      " 7   Goals        26 non-null     int64 \n",
      " 8   MarketValue  26 non-null     int64 \n",
      " 9   Country      26 non-null     object\n",
      "dtypes: int64(5), object(5)\n",
      "memory usage: 2.2+ KB\n"
     ]
    }
   ],
   "source": [
    "df_germany.info()"
   ]
  },
  {
   "cell_type": "code",
   "execution_count": 13,
   "metadata": {},
   "outputs": [
    {
     "data": {
      "text/plain": [
       "28.115384615384617"
      ]
     },
     "execution_count": 13,
     "metadata": {},
     "output_type": "execute_result"
    }
   ],
   "source": [
    "df_germany.Age.mean()"
   ]
  },
  {
   "cell_type": "code",
   "execution_count": null,
   "metadata": {},
   "outputs": [],
   "source": []
  }
 ],
 "metadata": {
  "language_info": {
   "name": "python"
  }
 },
 "nbformat": 4,
 "nbformat_minor": 2
}
